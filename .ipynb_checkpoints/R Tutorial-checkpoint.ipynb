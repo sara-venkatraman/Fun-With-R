{
 "cells": [
  {
   "cell_type": "markdown",
   "metadata": {},
   "source": [
    "### Installation and code editors"
   ]
  },
  {
   "cell_type": "markdown",
   "metadata": {},
   "source": []
  },
  {
   "cell_type": "markdown",
   "metadata": {},
   "source": [
    "### **Tabulating data**\n",
    "\n",
    "There are multiple functions in the R base package and elsewhere for grouping data based on one or more variables, as well as for constructing frequency and contingency tables. Useful functions include:\n",
    "- `ddply` (package: `plyr`): \n",
    "- `table` (package: `base`):\n",
    "- `aggregate` (package: `base`):\n",
    "\n",
    "The ``summary`` function can also be used to obtain descriptive statistics (quartiles, mean, minimum, maximum) for each variable in a data table.\n",
    "\n",
    "**Example 1**: On which day of the year were more children born in the US than on any other day? (For each year in 2000-2014)"
   ]
  },
  {
   "cell_type": "code",
   "execution_count": null,
   "metadata": {
    "collapsed": false
   },
   "outputs": [],
   "source": [
    "library(plyr)\n",
    "births2000_2014 = read.csv(\"https://raw.githubusercontent.com/fivethirtyeight/data/master/births/US_births_2000-2014_SSA.csv\", header=TRUE)\n",
    "birthdays = ddply(births2000_2014, \"year\", subset, births==max(births))\n",
    "formattedBirthdays = apply(birthdays, 1, function(x) { cat(x[1], \":\", month.abb[x[2]], x[3], fill=TRUE) })"
   ]
  },
  {
   "cell_type": "markdown",
   "metadata": {},
   "source": [
    "**Example 2:** Which states have had the most university commencement addresses given by US presidents?"
   ]
  },
  {
   "cell_type": "code",
   "execution_count": null,
   "metadata": {
    "collapsed": false
   },
   "outputs": [],
   "source": [
    "commencementSpeeches = read.csv(\"https://raw.githubusercontent.com/fivethirtyeight/data/master/presidential-commencement-speeches/commencement_speeches.csv\", header = TRUE)\n",
    "tail(sort(table(commencementSpeeches$state)))"
   ]
  },
  {
   "cell_type": "markdown",
   "metadata": {},
   "source": [
    "### **Hypothesis testing**\n",
    "\n",
    "Many functions are available in R for performing a wide range of statistical tests.  A few of the popular functions are:\n",
    "- `t.test`:\n",
    "- `shapiro.test`:\n",
    "- `var.test`:\n",
    "\n",
    "**Example 1**: Is there a statistically significant difference between the number of American newspapers circulating in 2004 and 2013?"
   ]
  },
  {
   "cell_type": "code",
   "execution_count": null,
   "metadata": {
    "collapsed": false
   },
   "outputs": [],
   "source": [
    "newspapers = read.csv(\"https://raw.githubusercontent.com/fivethirtyeight/data/master/pulitzer/pulitzer-circulation-data.csv\", header=T)\n",
    "circulation2004 = as.numeric(gsub(\",\", \"\", newspapers$Daily.Circulation..2004))\n",
    "circulation2013 = as.numeric(gsub(\",\", \"\", newspapers$Daily.Circulation..2013))"
   ]
  },
  {
   "cell_type": "code",
   "execution_count": null,
   "metadata": {
    "collapsed": false
   },
   "outputs": [],
   "source": [
    "# Paired t-test:\n",
    "t.test(circulation2004, circulation2013, paired = TRUE, conf.level = 0.95)"
   ]
  },
  {
   "cell_type": "code",
   "execution_count": null,
   "metadata": {
    "collapsed": true
   },
   "outputs": [],
   "source": [
    "# Paired t-test with null hypothesis that readership in 2013 was less (i.e. 2004-2013 > 0)\n",
    "t.test(circulation2004, circulation2013, paired = TRUE, alternative = \"greater\")"
   ]
  },
  {
   "cell_type": "markdown",
   "metadata": {},
   "source": [
    "### **Model selection**"
   ]
  },
  {
   "cell_type": "markdown",
   "metadata": {},
   "source": [
    "Using 'tidyverse' packages to reshape a large, complex dataset: \n",
    "What proportion of the New York Philarmonic's performances have been Beethoven, Mozart, or Mendelssohn pieces, from 1842-2016?"
   ]
  },
  {
   "cell_type": "code",
   "execution_count": null,
   "metadata": {
    "collapsed": false
   },
   "outputs": [],
   "source": [
    "library(plyr);  library(tidyverse);  library(reshape2);  options(warn=-1)\n",
    "NYPhil1842 = fromJSON(\"https://raw.githubusercontent.com/nyphilarchive/PerformanceHistory/master/Programs/json/complete.json\")\n",
    "seasons = (NYPhil1842 %>% map(\"season\"))$programs\n",
    "composers = (NYPhil1842 %>% map(\"works\"))$programs %>% map(\"composerName\")\n",
    "\n",
    "beethovenCount = unlist(composers %>% map(~ sum(str_count(na.omit(.), \"Beethoven\"))))\n",
    "mozartCount = unlist(composers %>% map(~ sum(str_count(na.omit(.), \"Mozart\"))))\n",
    "mendelssohnCount = unlist(composers %>% map(~ sum(str_count(na.omit(.), \"Mendelssohn\"))))\n",
    "\n",
    "pieceCount = unlist(composers %>% map(~ length(na.omit(.))))\n",
    "\n",
    "composersBySeason <- data_frame(season = seasons, pieceCount = pieceCount, beethoven = beethovenCount, \n",
    "                                mozart = mozartCount, mendelssohn = mendelssohnCount)\n",
    "\n",
    "composersBySeason = plyr::ddply(composersBySeason,\"seasons\",numcolwise(sum))\n",
    "composersBySeason[,3:5] = composersBySeason[,3:5]/composersBySeason$pieceCount\n",
    "\n",
    "composersBySeasonLong = melt(composersBySeason[-NROW(composersBySeason),-2], id=\"seasons\")\n",
    "\n",
    "p1 = ggplot(data=composersBySeasonLong,  aes(x=seasons, y=value, color=variable, group=variable)) + \n",
    "            geom_line() + theme(axis.text.x = element_text(size=5, angle=90))\n",
    "print(p1)"
   ]
  },
  {
   "cell_type": "code",
   "execution_count": null,
   "metadata": {
    "collapsed": true
   },
   "outputs": [],
   "source": []
  }
 ],
 "metadata": {
  "kernelspec": {
   "display_name": "R",
   "language": "R",
   "name": "ir"
  },
  "language_info": {
   "codemirror_mode": "r",
   "file_extension": ".r",
   "mimetype": "text/x-r-source",
   "name": "R",
   "pygments_lexer": "r",
   "version": "3.3.2"
  }
 },
 "nbformat": 4,
 "nbformat_minor": 0
}
