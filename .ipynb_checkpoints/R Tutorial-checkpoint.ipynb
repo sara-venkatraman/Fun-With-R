{
 "cells": [
  {
   "cell_type": "markdown",
   "metadata": {},
   "source": [
    "### Installation and code editors"
   ]
  },
  {
   "cell_type": "markdown",
   "metadata": {},
   "source": [
    "### Variables, types, data structures\n",
    "\n",
    "In R, each variable is assigned an \"R Object\" whose type matches that of the data contained in it.  Some common R objects are:\n",
    "- *vectors*: the simplest data structure; a scalar variable in R is a vector of length 1. There are six types of vectors (sometimes referred to as the \"atomic types\"): `logical`, `numeric`, `integer`, `complex`, `character`, and `raw`.  All real numbers in R are stored in double-precision format.\n",
    "- *factors*: object for representing the levels (in the form of strings or integers) of a categorical variable\n",
    "- *lists*: collections of named elements which can be of different types\n",
    "- *matrices*: elements of the same atomic type are arranged in two-dimensional, rectangular layout; dimensions can be given names\n",
    "- *arrays*: multidimensional data structure of the same atomic type, i.e. a collection of matrices\n",
    "- *data frames*: table/2D array-like structure in which each column stores values of one variable, and each row corresponds to one observation"
   ]
  },
  {
   "cell_type": "code",
   "execution_count": null,
   "metadata": {
    "collapsed": true
   },
   "outputs": [],
   "source": [
    "# Vectors\n",
    "a = c(1,2,3) \n",
    "b = c(4,5,6)  \n",
    "d = c(\"a\",\"b\",\"c\")\n",
    "\n",
    "# Combining vectors\n",
    "cbind(a,b,d)\n",
    "rbind(a,b,d)\n",
    "\n",
    "# Lists\n",
    "e = list(x = \"R\", y = c(\"is\", \"fun\"), z = pi)\n",
    "e$x\n",
    "str(e)\n",
    "\n",
    "# Matrices\n",
    "f = matrix(1:9, nrow = 3, ncol = 3)\n",
    "det(f)     # Right answer is 0. Matlab says this determinant is 6.6613e-16 ...\n",
    "eigen(f)   # The third eigenvalue should be 0 (Matlab got this right) ...\n",
    "\n",
    "# Data frames\n",
    "mc1973 = c(30843, 27752, 31557, 31089, 35222, 33587, 31418, 30129, 27327, 31383, 30430, 34031)\n",
    "mc2004 = c(215333, 204911, 226643, 222094, 242950, 222523, 214999, 216362, 214577, 217289, 211547, 225771)\n",
    "q = data.frame(production1973 = mc1973, production2004 = mc2004)\n",
    "summary(q)\n",
    "mean(q$production1973)"
   ]
  },
  {
   "cell_type": "markdown",
   "metadata": {},
   "source": [
    "### Sampling and probability"
   ]
  },
  {
   "cell_type": "markdown",
   "metadata": {},
   "source": [
    "### Functions, higher-order functions, lambdas"
   ]
  },
  {
   "cell_type": "markdown",
   "metadata": {},
   "source": [
    "### Linear/nonlinear statistical models"
   ]
  },
  {
   "cell_type": "markdown",
   "metadata": {},
   "source": [
    "### **Tabulating data**\n",
    "\n",
    "There are multiple functions in the R base package and elsewhere for grouping data based on one or more variables, as well as for constructing frequency and contingency tables. Useful functions include:\n",
    "- `ddply` (package: `plyr`): \n",
    "- `table` (package: `base`):\n",
    "- `aggregate` (package: `base`):\n",
    "\n",
    "The ``summary`` function can also be used to obtain descriptive statistics (quartiles, mean, minimum, maximum) for each variable in a data table.\n",
    "\n",
    "**Example 1**: On which day of the year were more children born in the US than on any other day? (For each year in 2000-2014)"
   ]
  },
  {
   "cell_type": "code",
   "execution_count": null,
   "metadata": {
    "collapsed": false
   },
   "outputs": [],
   "source": [
    "library(plyr)\n",
    "births2000_2014 = read.csv(\"https://raw.githubusercontent.com/fivethirtyeight/data/master/births/US_births_2000-2014_SSA.csv\", header=TRUE)\n",
    "birthdays = ddply(births2000_2014, \"year\", subset, births==max(births))\n",
    "formattedBirthdays = apply(birthdays, 1, function(x) { cat(x[1], \":\", month.abb[x[2]], x[3], fill=TRUE) })"
   ]
  },
  {
   "cell_type": "markdown",
   "metadata": {},
   "source": [
    "**Example 2:** Which states have had the most university commencement addresses given by US presidents?"
   ]
  },
  {
   "cell_type": "code",
   "execution_count": null,
   "metadata": {
    "collapsed": false
   },
   "outputs": [],
   "source": [
    "commencementSpeeches = read.csv(\"https://raw.githubusercontent.com/fivethirtyeight/data/master/presidential-commencement-speeches/commencement_speeches.csv\", header = TRUE)\n",
    "tail(sort(table(commencementSpeeches$state)))"
   ]
  },
  {
   "cell_type": "markdown",
   "metadata": {},
   "source": [
    "### **Statistical tests**\n",
    "\n",
    "Many functions are available in R for performing a wide range of statistical tests.  A few of the popular functions are:\n",
    "- `t.test`:\n",
    "- `shapiro.test`:\n",
    "- `var.test`:\n",
    "\n",
    "**Example 1**: Is there a statistically significant difference between the number of American newspapers circulating in 2004 and 2013?"
   ]
  },
  {
   "cell_type": "code",
   "execution_count": null,
   "metadata": {
    "collapsed": false
   },
   "outputs": [],
   "source": [
    "newspapers = read.csv(\"https://raw.githubusercontent.com/fivethirtyeight/data/master/pulitzer/pulitzer-circulation-data.csv\", header=T)\n",
    "circulation2004 = as.numeric(gsub(\",\", \"\", newspapers$Daily.Circulation..2004))\n",
    "circulation2013 = as.numeric(gsub(\",\", \"\", newspapers$Daily.Circulation..2013))"
   ]
  },
  {
   "cell_type": "code",
   "execution_count": null,
   "metadata": {
    "collapsed": false
   },
   "outputs": [],
   "source": [
    "# Paired t-test:\n",
    "t.test(circulation2004, circulation2013, paired = TRUE, conf.level = 0.95)"
   ]
  },
  {
   "cell_type": "code",
   "execution_count": null,
   "metadata": {
    "collapsed": true
   },
   "outputs": [],
   "source": [
    "# Paired t-test with null hypothesis that readership in 2013 was less (i.e. 2004-2013 > 0)\n",
    "t.test(circulation2004, circulation2013, paired = TRUE, alternative = \"greater\")"
   ]
  },
  {
   "cell_type": "markdown",
   "metadata": {},
   "source": [
    "### **Model selection**"
   ]
  },
  {
   "cell_type": "markdown",
   "metadata": {},
   "source": [
    "Using 'tidyverse' packages to reshape a large, complex dataset: \n",
    "What proportion of the New York Philarmonic's performances have been Beethoven, Mozart, or Mendelssohn pieces, from 1842-2016?"
   ]
  },
  {
   "cell_type": "code",
   "execution_count": null,
   "metadata": {
    "collapsed": false
   },
   "outputs": [],
   "source": [
    "library(plyr);  library(tidyverse);  library(reshape2);  options(warn=-1)\n",
    "NYPhil1842 = fromJSON(\"https://raw.githubusercontent.com/nyphilarchive/PerformanceHistory/master/Programs/json/complete.json\")\n",
    "seasons = (NYPhil1842 %>% map(\"season\"))$programs\n",
    "composers = (NYPhil1842 %>% map(\"works\"))$programs %>% map(\"composerName\")\n",
    "\n",
    "beethovenCount = unlist(composers %>% map(~ sum(str_count(na.omit(.), \"Beethoven\"))))\n",
    "mozartCount = unlist(composers %>% map(~ sum(str_count(na.omit(.), \"Mozart\"))))\n",
    "mendelssohnCount = unlist(composers %>% map(~ sum(str_count(na.omit(.), \"Mendelssohn\"))))\n",
    "\n",
    "pieceCount = unlist(composers %>% map(~ length(na.omit(.))))\n",
    "\n",
    "composersBySeason <- data_frame(season = seasons, pieceCount = pieceCount, beethoven = beethovenCount, \n",
    "                                mozart = mozartCount, mendelssohn = mendelssohnCount)\n",
    "\n",
    "composersBySeason = plyr::ddply(composersBySeason,\"seasons\",numcolwise(sum))\n",
    "composersBySeason[,3:5] = composersBySeason[,3:5]/composersBySeason$pieceCount\n",
    "\n",
    "composersBySeasonLong = melt(composersBySeason[-NROW(composersBySeason),-2], id=\"seasons\")\n",
    "\n",
    "p1 = ggplot(data=composersBySeasonLong,  aes(x=seasons, y=value, color=variable, group=variable)) + \n",
    "            geom_line() + theme(axis.text.x = element_text(size=5, angle=90))\n",
    "print(p1)"
   ]
  },
  {
   "cell_type": "code",
   "execution_count": null,
   "metadata": {
    "collapsed": true
   },
   "outputs": [],
   "source": []
  }
 ],
 "metadata": {
  "kernelspec": {
   "display_name": "R",
   "language": "R",
   "name": "ir"
  },
  "language_info": {
   "codemirror_mode": "r",
   "file_extension": ".r",
   "mimetype": "text/x-r-source",
   "name": "R",
   "pygments_lexer": "r",
   "version": "3.3.2"
  }
 },
 "nbformat": 4,
 "nbformat_minor": 0
}
